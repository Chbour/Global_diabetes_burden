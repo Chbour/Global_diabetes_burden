{
 "cells": [
  {
   "cell_type": "code",
   "execution_count": null,
   "id": "7c80de60",
   "metadata": {},
   "outputs": [],
   "source": [
    "import pandas as pd\n",
    "from vaderSentiment.vaderSentiment import SentimentIntensityAnalyzer\n",
    "from tqdm import tqdm\n",
    "\n",
    "#Import the data\n",
    "data=pd.read_csv(r\"\") #import data\n",
    "\n",
    "analyzer = SentimentIntensityAnalyzer()\n",
    "\n",
    "#Get sentiment score and sentiment\n",
    "data[\"vader_compound\"]=\"\"\n",
    "data[\"vader_rate\"]=\"\"\n",
    "for i in tqdm(range(0,len(data.index))):\n",
    "    data[\"vader_compound\"][i] = analyzer.polarity_scores(data[\"text\"][i])[\"compound\"]\n",
    "    if data[\"vader_compound\"][i] >= 0.05 :\n",
    "        data[\"vader_rate\"][i]=\"Positive\"\n",
    "    elif data[\"vader_compound\"][i] <= - 0.05 :\n",
    "        data[\"vader_rate\"][i]=\"Negative\"\n",
    "    else :\n",
    "        data[\"vader_rate\"][i]=\"Neutral\""
   ]
  }
 ],
 "metadata": {
  "kernelspec": {
   "display_name": "Python 3",
   "language": "python",
   "name": "python3"
  },
  "language_info": {
   "codemirror_mode": {
    "name": "ipython",
    "version": 3
   },
   "file_extension": ".py",
   "mimetype": "text/x-python",
   "name": "python",
   "nbconvert_exporter": "python",
   "pygments_lexer": "ipython3",
   "version": "3.8.3"
  }
 },
 "nbformat": 4,
 "nbformat_minor": 5
}
