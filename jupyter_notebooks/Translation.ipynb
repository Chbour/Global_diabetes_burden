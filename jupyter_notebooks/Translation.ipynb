{
 "cells": [
  {
   "cell_type": "code",
   "execution_count": 1,
   "id": "1f9c17d5",
   "metadata": {},
   "outputs": [],
   "source": [
    "import pydeepl\n",
    "import tweepy\n",
    "import pandas as pd\n",
    "import json\n",
    "import time\n",
    "from pymongo import MongoClient\n",
    "import sys\n",
    "from tqdm import tqdm\n",
    "from deep_translator import GoogleTranslator"
   ]
  },
  {
   "cell_type": "code",
   "execution_count": null,
   "id": "03ffa4e6",
   "metadata": {},
   "outputs": [],
   "source": [
    "#Create song to alert if the script stops"
   ]
  },
  {
   "cell_type": "code",
   "execution_count": null,
   "id": "370d53b0",
   "metadata": {},
   "outputs": [],
   "source": [
    "MONGO_HOST= 'connexion path to mongodb'\n",
    "\n",
    "try:\n",
    "    client = MongoClient(MONGO_HOST)\n",
    "    db = client.database # Use database (If it doesn't exist, it will be created)\n",
    "except Exception as e:\n",
    "    print(e)"
   ]
  },
  {
   "cell_type": "code",
   "execution_count": null,
   "id": "b4d74a1c",
   "metadata": {},
   "outputs": [],
   "source": [
    "total=db.data_to_translate.count()\n",
    "k=10000\n",
    "for i in range(0,total,k):\n",
    "    try:\n",
    "        print(i)\n",
    "        tweets=pd.DataFrame(db.tweets_to_translate.find()[i:i+k])\n",
    "        tweets[\"translation\"]=\"\"\n",
    "        for j in tqdm(range(0,10000)):\n",
    "            tweets[\"translation\"][j]= GoogleTranslator(source='auto', target='en').translate(tweets[\"full_text\"][j])  \n",
    "        db.data_translated.insert_many(tweets.to_dict('records'))\n",
    "    except Exception as e:\n",
    "        bell()\n",
    "        time.sleep(1)\n",
    "        bell()\n",
    "        time.sleep(1)\n",
    "        bell()\n",
    "        print(e)\n",
    "        break"
   ]
  }
 ],
 "metadata": {
  "kernelspec": {
   "display_name": "Python 3",
   "language": "python",
   "name": "python3"
  },
  "language_info": {
   "codemirror_mode": {
    "name": "ipython",
    "version": 3
   },
   "file_extension": ".py",
   "mimetype": "text/x-python",
   "name": "python",
   "nbconvert_exporter": "python",
   "pygments_lexer": "ipython3",
   "version": "3.8.3"
  }
 },
 "nbformat": 4,
 "nbformat_minor": 5
}
