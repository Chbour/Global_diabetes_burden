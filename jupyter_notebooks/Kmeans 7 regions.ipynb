{
 "cells": [
  {
   "cell_type": "code",
   "execution_count": null,
   "metadata": {},
   "outputs": [],
   "source": [
    "import nltk\n",
    "from numpy.linalg import norm\n",
    "from gensim.models import FastText\n",
    "import sys\n",
    "import os.path as op\n",
    "import random\n",
    "import pandas as pd\n",
    "import numpy as np \n",
    "        \n",
    "        \n",
    "basename = r\"path\"\n",
    "path_utils = op.join(basename , \"utils\")\n",
    "sys.path.insert(0, path_utils)\n",
    "\n",
    "from sys_utils import load_library\n",
    "from tweet_utils import tweet_vectorizer\n",
    "\n",
    "from preprocess import Preprocess\n",
    "prep = Preprocess()\n",
    "\n",
    "        \n",
    "def preprocess_tweet(tweet):\n",
    "    tweet = prep.replace_contractions(tweet).lower().replace(\"hba1c\",\"hbaonec\").replace(\"a1c\",\"aonec\")\n",
    "    tweet = prep.replace_hashtags_URL_USER(tweet, mode_URL=\"delete\", mode_Mentions=\"delete\")\n",
    "    tweet = prep.remove_repeating_characters(tweet)\n",
    "    tweet = prep.remove_repeating_words(tweet)\n",
    "    tweet = prep.tokenize(tweet)\n",
    "    tweet = prep.remove_punctuation(tweet)\n",
    "    tweet = prep.to_lowercase(tweet)\n",
    "    tweet = prep.remove_non_ascii(tweet)\n",
    "    tweet = prep.replace_numbers(tweet)\n",
    "    tweet = prep.remove_stopwords(tweet, include_personal_words=False, include_negations=False)\n",
    "    tweet = [word for word in tweet if word not in [\"diabetes\", \"diabetic\"]]\n",
    "    return tweet"
   ]
  },
  {
   "cell_type": "code",
   "execution_count": null,
   "metadata": {},
   "outputs": [],
   "source": [
    "data = pd.read_csv(r\"path_to_tweet_file\")\n",
    "data=data.drop([\"Unnamed: 0\",\"index\",\"level_0\"],axis=1)\n",
    "model = FastText.load(r\"path_fasttext_modeé\")\n",
    "print(data.shape)\n",
    "\n",
    "#Vectorize\n",
    "data[\"text_vec\"] = data.text.map(lambda tweet: tweet_vectorizer(preprocess_tweet(tweet), model))\n",
    "data[\"prep\"] = data.text.map(lambda tweet: preprocess_tweet(tweet))\n",
    "print(data.columns)"
   ]
  },
  {
   "cell_type": "code",
   "execution_count": null,
   "metadata": {},
   "outputs": [],
   "source": [
    "data.groupby(by=\"user_name\").count().shape"
   ]
  },
  {
   "cell_type": "code",
   "execution_count": null,
   "metadata": {
    "scrolled": true
   },
   "outputs": [],
   "source": [
    "from tqdm import tqdm\n",
    "vectors=np.zeros((len(data.index),300))\n",
    "for i in tqdm(range(vectors.shape[0])):\n",
    "    vectors[i,:] = data[\"text_vec\"][i]\n",
    "vectors"
   ]
  },
  {
   "cell_type": "code",
   "execution_count": null,
   "metadata": {},
   "outputs": [],
   "source": [
    "%load_ext autoreload"
   ]
  },
  {
   "cell_type": "code",
   "execution_count": null,
   "metadata": {},
   "outputs": [],
   "source": [
    "%autoreload 2"
   ]
  },
  {
   "cell_type": "markdown",
   "metadata": {},
   "source": [
    "# Regions"
   ]
  },
  {
   "cell_type": "code",
   "execution_count": null,
   "metadata": {},
   "outputs": [],
   "source": [
    "#Regions\n",
    "EAST_ASIA_AND_PACIFIC = [\"Samoa\",\"South Korea\",\"Philippines\",\"Australia\",\"Laos\",\"Brunei\",\"Darussalam\",\"Macao\",\"Singapore\",\"Cambodia\",\"Malaysia\",\"Solomon Islands\",\"China\",\"Marshall Islands\",\"Taiwan\",\"Fiji\",\"Micronesia (country)\",\"Thailand\",\"French Polynesia\",\"Mongolia\",\"Timor-Leste\",\"Guam\",\"Myanmar\",\"Papua New Guinea\",\"Hong Kong\",\"Nauru\",\"Tonga\",\"Indonesia\",\"New Caledonia\",\"Tuvalu\",\"Japan\",\"New Zealand\",\"Vanuatu\",\"Kiribati\",\"Northern Mariana Islands\",\"Vietnam\",\"North Korea\",\"Palau\"]\n",
    "EUROPE_AND_CENTRAL_ASIA=[\"Albania\",\"Gibraltar\",\"Norway\",\"Andorra\",\"Greece\",\"Poland\",\"Armenia\",\"Greenland\",\"Portugal\",\"Austria\",\"Hungary\",\"Romania\",\"Azerbaijan\",\"Iceland\",\"Russia\",\"Belarus\",\"Ireland\",\"San Marino\",\"Belgium\",\"Isle of Man\",\"Serbia\",\"Bosnia and Herzegovina\",\"Italy\",\"Slovakia\",\"Bulgaria\",\"Kazakhstan\",\"Slovenia\",\"Channel Islands\",\"Kosovo\",\"Spain\",\"Croatia\",\"Kyrgyzstan\",\"Sweden\",\"Cyprus\",\"Latvia\",\"Switzerland\",\"Czechia\",\"Liechtenstein\",\"Tajikistan\",\"Denmark\",\"Lithuania\",\"Turkey\",\"Estonia\",\"Luxembourg\",\"Turkmenistan\",\"Faroe Islands\",\"Moldova\",\"Ukraine\",\"Finland\",\"Monaco\",\"United Kingdom\",\"France\",\"Montenegro\",\"Uzbekistan\",\"Georgia\",\"Netherlands\",\"Germany\",\"North Macedonia\"]\n",
    "LATIN_AMERICA_AND_THE_CARIBBEAN=[\"Antigua and Barbuda\",\"Curacao\",\"Paraguay\",\"Argentina\",\"Dominica\",\"Peru\",\"Aruba\",\"Dominican Republic\",\"Puerto Rico\",\"Bahamas\",\"Ecuador\",\"Sint Maarten\",\"Barbados\",\"El Salvador\",\"Saint Kitts and Nevis\",\"Belize\",\"Grenada\",\"Saint Lucia\",\"Bolivia\",\"Guatemala\",\"Saint Martin\",\"Brazil\",\"Guyana\",\"Saint Vincent and the Grenadines\",\"British Virgin Islands\",\"Haiti\",\"Suriname\",\"Cayman Islands\",\"Honduras\",\"Trinidad and Tobago\",\"Chile\",\"Jamaica\",\"Turks and Caicos Islands\",\"Colombia\",\"Mexico\",\"Uruguay\",\"Costa Rica\",\"Nicaragua\",\"Venezuela\",\"Cuba\",\"Panama\",\"Virgin Islands\"]\n",
    "MIDDLE_EAST_AND_NORTH_AFRICA = [\"Algeria\",\"Jordan\",\"Qatar\",\"Bahrain\",\"Kuwait\",\"Saudi Arabia\",\"Djibouti\",\"Lebanon\",\"Syria\",\"Syrian Arab Republic\",\"Egypt\",\"Libya\",\"Tunisia\",\"Iran\",\"Malta\",\"United Arab Emirates\",\"Iraq\",\"Morocco\",\"West Bank and Gaza\",\"Israel\",\"Oman\",\"Yemen\",\"Palestine\"]\n",
    "NORTH_AMERICA = [\"Bermuda\",\"Canada\",\"United States\"]\n",
    "SOUTH_ASIA = [\"Afghanistan\",\"India\",\"Pakistan\",\"Bangladesh\",\"Maldives\",\"Sri Lanka\",\"Bhutan\",\"Nepal\"]\n",
    "SUB_SAHARAN_AFRICA=[\"Angola\",\"Ethiopia\",\"Niger\",\"Benin\",\"Gabon\",\"Nigeria\",\"Botswana\",\"Gambia\",\"Rwanda\",\"Burkina Faso\",\"Ghana\",\"São Tomé and Principe\",\"Burundi\",\"Guinea\",\"Senegal\",\"Cameroon\",\"Kenya\",\"Sierra Leone\",\"Central African Republic\",\"Lesotho\",\"Somalia\",\"Chad\",\"Liberia\",\"South Africa\",\"Comoros\",\"Madagascar\",\"South Sudan\",\"Democratic Republic of the Congo\",\"Malawi\",\"Sudan\",\"Mali\",\"Tanzania\",\"Côte d'Ivoire\",\"Mauritania\",\"Togo\",\"Equatorial Guinea\",\"Mauritius\",\"Uganda\",\"Eritrea\",\"Mozambique\",\"Zambia\",\"Eswatini\",\"Namibia\",\"Zimbabwe\"]"
   ]
  },
  {
   "cell_type": "code",
   "execution_count": null,
   "metadata": {},
   "outputs": [],
   "source": [
    "#Associate country with region\n",
    "data[\"region\"]=\"\"\n",
    "a=[]\n",
    "for i in tqdm(range(len(data.index))):\n",
    "    if data[\"country\"][i] in EAST_ASIA_AND_PACIFIC:\n",
    "        data[\"region\"][i]=\"EAST_ASIA_AND_PACIFIC\"\n",
    "    elif data[\"country\"][i] in EUROPE_AND_CENTRAL_ASIA:\n",
    "        data[\"region\"][i]=\"EUROPE_AND_CENTRAL_ASIA\"\n",
    "    elif data[\"country\"][i] in LATIN_AMERICA_AND_THE_CARIBBEAN:\n",
    "        data[\"region\"][i]=\"LATIN_AMERICA_AND_THE_CARIBBEAN\"\n",
    "    elif data[\"country\"][i] in MIDDLE_EAST_AND_NORTH_AFRICA:\n",
    "        data[\"region\"][i]=\"MIDDLE_EAST_AND_NORTH_AFRICA\"\n",
    "    elif data[\"country\"][i] in NORTH_AMERICA:\n",
    "        data[\"region\"][i]=\"NORTH_AMERICA\"\n",
    "    elif data[\"country\"][i] in SOUTH_ASIA:\n",
    "        data[\"region\"][i]=\"SOUTH_ASIA\"\n",
    "    elif data[\"country\"][i] in SUB_SAHARAN_AFRICA:\n",
    "        data[\"region\"][i]=\"SUB_SAHARAN_AFRICA\"\n",
    "    else:\n",
    "        a.append(i) #List to check if a country is missing"
   ]
  },
  {
   "cell_type": "code",
   "execution_count": null,
   "metadata": {},
   "outputs": [],
   "source": [
    "data_EAST_ASIA_AND_PACIFIC = data[data[\"region\"]==\"EAST_ASIA_AND_PACIFIC\"]\n",
    "data_EUROPE_AND_CENTRAL_ASIA = data[data[\"region\"]==\"EUROPE_AND_CENTRAL_ASIA\"]\n",
    "data_LATIN_AMERICA_AND_THE_CARIBBEAN =  data[data[\"region\"]==\"LATIN_AMERICA_AND_THE_CARIBBEAN\"]\n",
    "data_MIDDLE_EAST_AND_NORTH_AFRICA =  data[data[\"region\"]==\"MIDDLE_EAST_AND_NORTH_AFRICA\"]\n",
    "data_NORTH_AMERICA =  data[data[\"region\"]==\"NORTH_AMERICA\"]\n",
    "data_SOUTH_ASIA =  data[data[\"region\"]==\"SOUTH_ASIA\"]\n",
    "data_SUB_SAHARAN_AFRICA =  data[data[\"region\"]==\"SUB_SAHARAN_AFRICA\"]"
   ]
  },
  {
   "cell_type": "code",
   "execution_count": null,
   "metadata": {},
   "outputs": [],
   "source": [
    "vectors_EAST_ASIA_AND_PACIFIC = vectors[data_EAST_ASIA_AND_PACIFIC.index.tolist(),:]\n",
    "vectors_EUROPE_AND_CENTRAL_ASIA = vectors[data_EUROPE_AND_CENTRAL_ASIA.index.tolist(),:]\n",
    "vectors_LATIN_AMERICA_AND_THE_CARIBBEAN = vectors[data_LATIN_AMERICA_AND_THE_CARIBBEAN.index.tolist(),:]\n",
    "vectors_MIDDLE_EAST_AND_NORTH_AFRICA = vectors[data_MIDDLE_EAST_AND_NORTH_AFRICA.index.tolist(),:]\n",
    "vectors_NORTH_AMERICA = vectors[data_NORTH_AMERICA.index.tolist(),:]\n",
    "vectors_SOUTH_ASIA = vectors[data_SOUTH_ASIA.index.tolist(),:]\n",
    "vectors_SUB_SAHARAN_AFRICA = vectors[data_SUB_SAHARAN_AFRICA.index.tolist(),:]"
   ]
  },
  {
   "cell_type": "markdown",
   "metadata": {},
   "source": [
    "## EAST_ASIA_AND_PACIFIC"
   ]
  },
  {
   "cell_type": "code",
   "execution_count": null,
   "metadata": {
    "scrolled": true
   },
   "outputs": [],
   "source": [
    "from sklearn.metrics import silhouette_score\n",
    "import fast_kmeans\n",
    "from matplotlib import pyplot as plt\n",
    "MAX_ITERATIONS = 150\n",
    "\n",
    "data_EAST_ASIA_AND_PACIFIC[\"label\"]=\"\"\n",
    "list_silhouette=[]\n",
    "list_index=[]\n",
    "for i in range(4,25):\n",
    "    labels=fast_kmeans.kmeans(vectors_EAST_ASIA_AND_PACIFIC, i, MAX_ITERATIONS, distance=\"cosinus\", vectorColumn=\"text_vec\")\n",
    "    data_EAST_ASIA_AND_PACIFIC[\"label\"] = labels\n",
    "    silhouette_avg=silhouette_score(np.asarray(data_EAST_ASIA_AND_PACIFIC[\"text_vec\"].values.tolist()), data_EAST_ASIA_AND_PACIFIC[\"label\"].values, metric=\"cosine\",sample_size=50000)\n",
    "    list_silhouette.append(silhouette_avg)\n",
    "    list_index.append(i)\n",
    "plt.plot(list_index,list_silhouette)"
   ]
  },
  {
   "cell_type": "code",
   "execution_count": null,
   "metadata": {},
   "outputs": [],
   "source": [
    "labels=fast_kmeans.kmeans(vectors_EAST_ASIA_AND_PACIFIC, 8, MAX_ITERATIONS, distance=\"cosinus\", vectorColumn=\"text_vec\")\n",
    "data_EAST_ASIA_AND_PACIFIC[\"label\"] = labels\n",
    "silhouette_avg=silhouette_score(np.asarray(data_EAST_ASIA_AND_PACIFIC[\"text_vec\"].values.tolist()), data_EAST_ASIA_AND_PACIFIC[\"label\"].values, metric=\"cosine\",sample_size=50000)"
   ]
  },
  {
   "cell_type": "code",
   "execution_count": null,
   "metadata": {},
   "outputs": [],
   "source": [
    "def calc_distance_to_groupCenter(group, topN, vectorColumn=\"text_vec\"):\n",
    "    matrix_form = np.asarray(group[vectorColumn].values.tolist())\n",
    "    groupCenter = np.sum(matrix_form,axis=0) / matrix_form.shape[0]\n",
    "    \n",
    "    group[\"cos_similarity_to_center\"] = group[\"text_vec\"].map(lambda vec: cosinus_similarity(vec, groupCenter))\n",
    "    \n",
    "    group.sort_values(by=\"cos_similarity_to_center\", ascending=False, inplace=True)\n",
    "    \n",
    "    print(\"------\")\n",
    "    print(\"Label:\", group[\"label\"].values[0], \"(Number tweets: {})\".format(group.shape[0]))\n",
    "    print(\"------\")\n",
    "    for i, row in group.head(topN).iterrows():\n",
    "        print(row[\"text\"])\n",
    "        print()   \n",
    "    \n",
    "    return(group)\n",
    "\n",
    "\n",
    "\n",
    "def print_closest_tweets_to_groupCenter(data, topN, vectorColumn=\"text_vec\"):\n",
    "\n",
    "    print(\"================\")\n",
    "    print(\"Closest tweets:\")\n",
    "    print(\"================\")\n",
    "    data = data.groupby(by=\"label\", as_index=False) \\\n",
    "              .apply(lambda data: calc_distance_to_groupCenter(data, topN,\"text_vec\")) \\\n",
    "              .reset_index(drop=True)\n",
    "    return(data)\n",
    "\n",
    "#10 closest tweets to group center by cluster    \n",
    "res1 = print_closest_tweets_to_groupCenter(data_EAST_ASIA_AND_PACIFIC, 10, \"text_vec\")\n",
    "res1.head()"
   ]
  },
  {
   "cell_type": "code",
   "execution_count": null,
   "metadata": {},
   "outputs": [],
   "source": [
    "data_EAST_ASIA_AND_PACIFIC=data_EAST_ASIA_AND_PACIFIC.reset_index()\n",
    "data_EAST_ASIA_AND_PACIFIC[\"text_prep\"]=\"\"\n",
    "for i in tqdm(range(len(data_EAST_ASIA_AND_PACIFIC.index))):\n",
    "    data_EAST_ASIA_AND_PACIFIC[\"text_prep\"][i]=' '.join(data_EAST_ASIA_AND_PACIFIC[\"prep\"][i]) "
   ]
  },
  {
   "cell_type": "code",
   "execution_count": null,
   "metadata": {},
   "outputs": [],
   "source": [
    "#Topwords\n",
    "from collections import Counter\n",
    "for i in range(0,8):\n",
    "    data_lab=data_EAST_ASIA_AND_PACIFIC[data_EAST_ASIA_AND_PACIFIC[\"label\"]==i]\n",
    "    print(\"Label \",i,\":\",Counter(\" \".join(data_lab[\"text_prep\"]).split()).most_common(15))"
   ]
  },
  {
   "cell_type": "markdown",
   "metadata": {},
   "source": [
    "## EUROPE_AND_CENTRAL_ASIA"
   ]
  },
  {
   "cell_type": "code",
   "execution_count": null,
   "metadata": {},
   "outputs": [],
   "source": [
    "from sklearn.metrics import silhouette_score\n",
    "import fast_kmeans\n",
    "from matplotlib import pyplot as plt\n",
    "MAX_ITERATIONS = 150\n",
    "\n",
    "print(data_EUROPE_AND_CENTRAL_ASIA.shape)\n",
    "data_EUROPE_AND_CENTRAL_ASIA[\"label\"]=\"\"\n",
    "list_silhouette=[]\n",
    "list_index=[]\n",
    "for i in range(4,25):\n",
    "    labels=fast_kmeans.kmeans(vectors_EUROPE_AND_CENTRAL_ASIA, i, MAX_ITERATIONS, distance=\"cosinus\", vectorColumn=\"text_vec\")\n",
    "    data_EUROPE_AND_CENTRAL_ASIA[\"label\"] = labels\n",
    "    silhouette_avg=silhouette_score(np.asarray(data_EUROPE_AND_CENTRAL_ASIA[\"text_vec\"].values.tolist()), data_EUROPE_AND_CENTRAL_ASIA[\"label\"].values, metric=\"cosine\",sample_size=50000)\n",
    "    list_silhouette.append(silhouette_avg)\n",
    "    list_index.append(i)\n",
    "plt.plot(list_index,list_silhouette)"
   ]
  },
  {
   "cell_type": "code",
   "execution_count": null,
   "metadata": {},
   "outputs": [],
   "source": [
    "labels=fast_kmeans.kmeans(vectors_EUROPE_AND_CENTRAL_ASIA, 10, MAX_ITERATIONS, distance=\"cosinus\", vectorColumn=\"text_vec\")\n",
    "data_EUROPE_AND_CENTRAL_ASIA[\"label\"] = labels\n",
    "silhouette_avg=silhouette_score(np.asarray(data_EUROPE_AND_CENTRAL_ASIA[\"text_vec\"].values.tolist()), data_EUROPE_AND_CENTRAL_ASIA[\"label\"].values, metric=\"cosine\",sample_size=50000)"
   ]
  },
  {
   "cell_type": "code",
   "execution_count": null,
   "metadata": {},
   "outputs": [],
   "source": [
    "#10 closest tweets to group center by cluster\n",
    "res1 = print_closest_tweets_to_groupCenter(data_EUROPE_AND_CENTRAL_ASIA, 10, \"text_vec\")\n",
    "res1.head()"
   ]
  },
  {
   "cell_type": "code",
   "execution_count": null,
   "metadata": {},
   "outputs": [],
   "source": [
    "data_EUROPE_AND_CENTRAL_ASIA=data_EUROPE_AND_CENTRAL_ASIA.reset_index()\n",
    "data_EUROPE_AND_CENTRAL_ASIA[\"text_prep\"]=\"\"\n",
    "for i in tqdm(range(len(data_EUROPE_AND_CENTRAL_ASIA.index))):\n",
    "    data_EUROPE_AND_CENTRAL_ASIA[\"text_prep\"][i]=' '.join(data_EUROPE_AND_CENTRAL_ASIA[\"prep\"][i]) "
   ]
  },
  {
   "cell_type": "code",
   "execution_count": null,
   "metadata": {},
   "outputs": [],
   "source": [
    "#Topwords\n",
    "from collections import Counter\n",
    "for i in range(0,10):\n",
    "    data_lab=data_EUROPE_AND_CENTRAL_ASIA[data_EUROPE_AND_CENTRAL_ASIA[\"label\"]==i]\n",
    "    print(\"Label \",i,\":\",Counter(\" \".join(data_lab[\"text_prep\"]).split()).most_common(15))"
   ]
  },
  {
   "cell_type": "markdown",
   "metadata": {},
   "source": [
    "## LATIN_AMERICA_AND_THE_CARIBBEAN"
   ]
  },
  {
   "cell_type": "code",
   "execution_count": null,
   "metadata": {
    "scrolled": true
   },
   "outputs": [],
   "source": [
    "from sklearn.metrics import silhouette_score\n",
    "import fast_kmeans\n",
    "from matplotlib import pyplot as plt\n",
    "MAX_ITERATIONS = 150\n",
    "\n",
    "print(data_LATIN_AMERICA_AND_THE_CARIBBEAN.shape)\n",
    "data_LATIN_AMERICA_AND_THE_CARIBBEAN[\"label\"]=\"\"\n",
    "list_silhouette=[]\n",
    "list_index=[]\n",
    "for i in range(4,25):\n",
    "    labels=fast_kmeans.kmeans(vectors_LATIN_AMERICA_AND_THE_CARIBBEAN, i, MAX_ITERATIONS, distance=\"cosinus\", vectorColumn=\"text_vec\")\n",
    "    data_LATIN_AMERICA_AND_THE_CARIBBEAN[\"label\"] = labels\n",
    "    silhouette_avg=silhouette_score(np.asarray(data_LATIN_AMERICA_AND_THE_CARIBBEAN[\"text_vec\"].values.tolist()), data_LATIN_AMERICA_AND_THE_CARIBBEAN[\"label\"].values, metric=\"cosine\",sample_size=50000)\n",
    "    list_silhouette.append(silhouette_avg)\n",
    "    list_index.append(i)\n",
    "plt.plot(list_index,list_silhouette)"
   ]
  },
  {
   "cell_type": "code",
   "execution_count": null,
   "metadata": {},
   "outputs": [],
   "source": [
    "labels=fast_kmeans.kmeans(vectors_LATIN_AMERICA_AND_THE_CARIBBEAN, 7, MAX_ITERATIONS, distance=\"cosinus\", vectorColumn=\"text_vec\")\n",
    "data_LATIN_AMERICA_AND_THE_CARIBBEAN[\"label\"] = labels\n",
    "silhouette_avg=silhouette_score(np.asarray(data_LATIN_AMERICA_AND_THE_CARIBBEAN[\"text_vec\"].values.tolist()), data_LATIN_AMERICA_AND_THE_CARIBBEAN[\"label\"].values, metric=\"cosine\",sample_size=50000)"
   ]
  },
  {
   "cell_type": "code",
   "execution_count": null,
   "metadata": {},
   "outputs": [],
   "source": [
    "#10 closest tweets to group center by cluster\n",
    "res1 = print_closest_tweets_to_groupCenter(data_LATIN_AMERICA_AND_THE_CARIBBEAN, 10, \"text_vec\")\n",
    "res1.head()"
   ]
  },
  {
   "cell_type": "code",
   "execution_count": null,
   "metadata": {},
   "outputs": [],
   "source": [
    "data_LATIN_AMERICA_AND_THE_CARIBBEAN[\"text_prep\"]=\"\"\n",
    "for i in tqdm(range(len(data_LATIN_AMERICA_AND_THE_CARIBBEAN.index))):\n",
    "    data_LATIN_AMERICA_AND_THE_CARIBBEAN[\"text_prep\"][i]=' '.join(data_LATIN_AMERICA_AND_THE_CARIBBEAN[\"prep\"][i]) "
   ]
  },
  {
   "cell_type": "code",
   "execution_count": null,
   "metadata": {},
   "outputs": [],
   "source": [
    "#Topwords\n",
    "from collections import Counter\n",
    "for i in range(0,7):\n",
    "    data_lab=data_LATIN_AMERICA_AND_THE_CARIBBEAN[data_LATIN_AMERICA_AND_THE_CARIBBEAN[\"label\"]==i]\n",
    "    print(\"Label \",i,\":\",Counter(\" \".join(data_lab[\"text_prep\"]).split()).most_common(15))"
   ]
  },
  {
   "cell_type": "markdown",
   "metadata": {},
   "source": [
    "## MIDDLE_EAST_AND_NORTH_AFRICA"
   ]
  },
  {
   "cell_type": "code",
   "execution_count": null,
   "metadata": {
    "scrolled": true
   },
   "outputs": [],
   "source": [
    "from sklearn.metrics import silhouette_score\n",
    "import fast_kmeans\n",
    "from matplotlib import pyplot as plt\n",
    "MAX_ITERATIONS = 150\n",
    "\n",
    "print(data_MIDDLE_EAST_AND_NORTH_AFRICA.shape)\n",
    "data_MIDDLE_EAST_AND_NORTH_AFRICA[\"label\"]=\"\"\n",
    "list_silhouette=[]\n",
    "list_index=[]\n",
    "for i in range(4,25):\n",
    "    labels=fast_kmeans.kmeans(vectors_MIDDLE_EAST_AND_NORTH_AFRICA, i, MAX_ITERATIONS, distance=\"cosinus\", vectorColumn=\"text_vec\")\n",
    "    data_MIDDLE_EAST_AND_NORTH_AFRICA[\"label\"] = labels\n",
    "    silhouette_avg=silhouette_score(np.asarray(data_MIDDLE_EAST_AND_NORTH_AFRICA[\"text_vec\"].values.tolist()), data_MIDDLE_EAST_AND_NORTH_AFRICA[\"label\"].values, metric=\"cosine\",sample_size=50000)\n",
    "    list_silhouette.append(silhouette_avg)\n",
    "    list_index.append(i)\n",
    "plt.plot(list_index,list_silhouette)"
   ]
  },
  {
   "cell_type": "code",
   "execution_count": null,
   "metadata": {},
   "outputs": [],
   "source": [
    "labels=fast_kmeans.kmeans(vectors_MIDDLE_EAST_AND_NORTH_AFRICA, 4, MAX_ITERATIONS, distance=\"cosinus\", vectorColumn=\"text_vec\")\n",
    "data_MIDDLE_EAST_AND_NORTH_AFRICA[\"label\"] = labels\n",
    "silhouette_avg=silhouette_score(np.asarray(data_MIDDLE_EAST_AND_NORTH_AFRICA[\"text_vec\"].values.tolist()), data_MIDDLE_EAST_AND_NORTH_AFRICA[\"label\"].values, metric=\"cosine\",sample_size=50000)"
   ]
  },
  {
   "cell_type": "code",
   "execution_count": null,
   "metadata": {},
   "outputs": [],
   "source": [
    "#10 closest tweets to group center by cluster\n",
    "res1 = print_closest_tweets_to_groupCenter(data_MIDDLE_EAST_AND_NORTH_AFRICA, 10, \"text_vec\")\n",
    "res1.head()"
   ]
  },
  {
   "cell_type": "code",
   "execution_count": null,
   "metadata": {},
   "outputs": [],
   "source": [
    "data_MIDDLE_EAST_AND_NORTH_AFRICA=data_MIDDLE_EAST_AND_NORTH_AFRICA.reset_index()\n",
    "data_MIDDLE_EAST_AND_NORTH_AFRICA[\"text_prep\"]=\"\"\n",
    "for i in tqdm(range(len(data_MIDDLE_EAST_AND_NORTH_AFRICA.index))):\n",
    "    data_MIDDLE_EAST_AND_NORTH_AFRICA[\"text_prep\"][i]=' '.join(data_MIDDLE_EAST_AND_NORTH_AFRICA[\"prep\"][i]) "
   ]
  },
  {
   "cell_type": "code",
   "execution_count": null,
   "metadata": {},
   "outputs": [],
   "source": [
    "#Topwords\n",
    "from collections import Counter\n",
    "for i in range(0,7):\n",
    "    data_lab=data_MIDDLE_EAST_AND_NORTH_AFRICA[data_MIDDLE_EAST_AND_NORTH_AFRICA[\"label\"]==i]\n",
    "    print(\"Label \",i,\":\",Counter(\" \".join(data_lab[\"text_prep\"]).split()).most_common(15))"
   ]
  },
  {
   "cell_type": "markdown",
   "metadata": {},
   "source": [
    "## SOUTH_ASIA"
   ]
  },
  {
   "cell_type": "code",
   "execution_count": null,
   "metadata": {
    "scrolled": true
   },
   "outputs": [],
   "source": [
    "from sklearn.metrics import silhouette_score\n",
    "import fast_kmeans\n",
    "from matplotlib import pyplot as plt\n",
    "MAX_ITERATIONS = 150\n",
    "\n",
    "print(data_SOUTH_ASIA.shape)\n",
    "data_SOUTH_ASIA[\"label\"]=\"\"\n",
    "list_silhouette=[]\n",
    "list_index=[]\n",
    "for i in range(4,25):\n",
    "    labels=fast_kmeans.kmeans(vectors_SOUTH_ASIA, i, MAX_ITERATIONS, distance=\"cosinus\", vectorColumn=\"text_vec\")\n",
    "    data_SOUTH_ASIA[\"label\"] = labels\n",
    "    silhouette_avg=silhouette_score(np.asarray(data_SOUTH_ASIA[\"text_vec\"].values.tolist()), data_SOUTH_ASIA[\"label\"].values, metric=\"cosine\",sample_size=50000)\n",
    "    list_silhouette.append(silhouette_avg)\n",
    "    list_index.append(i)\n",
    "plt.plot(list_index,list_silhouette)"
   ]
  },
  {
   "cell_type": "code",
   "execution_count": null,
   "metadata": {},
   "outputs": [],
   "source": [
    "labels=fast_kmeans.kmeans(vectors_SOUTH_ASIA, 6, MAX_ITERATIONS, distance=\"cosinus\", vectorColumn=\"text_vec\")\n",
    "data_SOUTH_ASIA[\"label\"] = labels\n",
    "silhouette_avg=silhouette_score(np.asarray(data_SOUTH_ASIA[\"text_vec\"].values.tolist()), data_SOUTH_ASIA[\"label\"].values, metric=\"cosine\",sample_size=50000)"
   ]
  },
  {
   "cell_type": "code",
   "execution_count": null,
   "metadata": {},
   "outputs": [],
   "source": [
    "#10 closest tweets to group center by cluster\n",
    "res1 = print_closest_tweets_to_groupCenter(data_SOUTH_ASIA, 10, \"text_vec\")\n",
    "res1.head()"
   ]
  },
  {
   "cell_type": "code",
   "execution_count": null,
   "metadata": {},
   "outputs": [],
   "source": [
    "data_SOUTH_ASIA=data_SOUTH_ASIA.reset_index()\n",
    "data_SOUTH_ASIA[\"text_prep\"]=\"\"\n",
    "for i in tqdm(range(len(data_SOUTH_ASIA.index))):\n",
    "    data_SOUTH_ASIA[\"text_prep\"][i]=' '.join(data_SOUTH_ASIA[\"prep\"][i]) "
   ]
  },
  {
   "cell_type": "code",
   "execution_count": null,
   "metadata": {},
   "outputs": [],
   "source": [
    "#Topwords\n",
    "from collections import Counter\n",
    "for i in range(0,7):\n",
    "    data_lab=data_SOUTH_ASIA[data_SOUTH_ASIA[\"label\"]==i]\n",
    "    print(\"Label \",i,\":\",Counter(\" \".join(data_lab[\"text_prep\"]).split()).most_common(15))"
   ]
  },
  {
   "cell_type": "markdown",
   "metadata": {},
   "source": [
    "## SUB_SAHARAN_AFRICA"
   ]
  },
  {
   "cell_type": "code",
   "execution_count": null,
   "metadata": {
    "scrolled": true
   },
   "outputs": [],
   "source": [
    "from sklearn.metrics import silhouette_score\n",
    "import fast_kmeans\n",
    "from matplotlib import pyplot as plt\n",
    "MAX_ITERATIONS = 150\n",
    "\n",
    "print(data_SUB_SAHARAN_AFRICA.shape)\n",
    "data_SUB_SAHARAN_AFRICA[\"label\"]=\"\"\n",
    "list_silhouette=[]\n",
    "list_index=[]\n",
    "for i in range(4,25):\n",
    "    labels=fast_kmeans.kmeans(vectors_SUB_SAHARAN_AFRICA, i, MAX_ITERATIONS, distance=\"cosinus\", vectorColumn=\"text_vec\")\n",
    "    data_SUB_SAHARAN_AFRICA[\"label\"] = labels\n",
    "    silhouette_avg=silhouette_score(np.asarray(data_SUB_SAHARAN_AFRICA[\"text_vec\"].values.tolist()), data_SUB_SAHARAN_AFRICA[\"label\"].values, metric=\"cosine\",sample_size=50000)\n",
    "    list_silhouette.append(silhouette_avg)\n",
    "    list_index.append(i)\n",
    "plt.plot(list_index,list_silhouette)"
   ]
  },
  {
   "cell_type": "code",
   "execution_count": null,
   "metadata": {},
   "outputs": [],
   "source": [
    "labels=fast_kmeans.kmeans(vectors_SUB_SAHARAN_AFRICA, 4, MAX_ITERATIONS, distance=\"cosinus\", vectorColumn=\"text_vec\")\n",
    "data_SUB_SAHARAN_AFRICA[\"label\"] = labels\n",
    "silhouette_avg=silhouette_score(np.asarray(data_SUB_SAHARAN_AFRICA[\"text_vec\"].values.tolist()), data_SUB_SAHARAN_AFRICA[\"label\"].values, metric=\"cosine\",sample_size=50000)"
   ]
  },
  {
   "cell_type": "code",
   "execution_count": null,
   "metadata": {},
   "outputs": [],
   "source": [
    "#10 closest tweets to group center by cluster\n",
    "res1 = print_closest_tweets_to_groupCenter(data_SUB_SAHARAN_AFRICA, 10, \"text_vec\")\n",
    "res1.head()"
   ]
  },
  {
   "cell_type": "code",
   "execution_count": null,
   "metadata": {},
   "outputs": [],
   "source": [
    "data_SUB_SAHARAN_AFRICA[\"text_prep\"]=\"\"\n",
    "for i in tqdm(range(len(data_SUB_SAHARAN_AFRICA.index))):\n",
    "    data_SUB_SAHARAN_AFRICA[\"text_prep\"][i]=' '.join(data_SUB_SAHARAN_AFRICA[\"prep\"][i]) "
   ]
  },
  {
   "cell_type": "code",
   "execution_count": null,
   "metadata": {},
   "outputs": [],
   "source": [
    "#Topwords\n",
    "from collections import Counter\n",
    "for i in range(0,9):\n",
    "    data_lab=data_SUB_SAHARAN_AFRICA[data_SUB_SAHARAN_AFRICA[\"label\"]==i]\n",
    "    print(\"Label \",i,\":\",Counter(\" \".join(data_lab[\"text_prep\"]).split()).most_common(15))"
   ]
  },
  {
   "cell_type": "markdown",
   "metadata": {},
   "source": [
    "## NORTH_AMERICA"
   ]
  },
  {
   "cell_type": "code",
   "execution_count": null,
   "metadata": {},
   "outputs": [],
   "source": [
    "from sklearn.metrics import silhouette_score\n",
    "import fast_kmeans\n",
    "from matplotlib import pyplot as plt\n",
    "MAX_ITERATIONS = 150\n",
    "\n",
    "print(data_NORTH_AMERICA.shape)\n",
    "data_NORTH_AMERICA[\"label\"]=\"\"\n",
    "list_silhouette=[]\n",
    "list_index=[]\n",
    "for i in range(5,25):\n",
    "    labels=fast_kmeans.kmeans(vectors_NORTH_AMERICA, i, MAX_ITERATIONS, distance=\"cosinus\", vectorColumn=\"text_vec\")\n",
    "    data_NORTH_AMERICA[\"label\"] = labels\n",
    "    silhouette_avg=silhouette_score(np.asarray(data_NORTH_AMERICA[\"text_vec\"].values.tolist()), data_NORTH_AMERICA[\"label\"].values, metric=\"cosine\",sample_size=50000)\n",
    "    list_silhouette.append(silhouette_avg)\n",
    "    list_index.append(i)\n",
    "plt.plot(list_index,list_silhouette)"
   ]
  },
  {
   "cell_type": "code",
   "execution_count": null,
   "metadata": {},
   "outputs": [],
   "source": [
    "labels=fast_kmeans.kmeans(vectors_NORTH_AMERICA, 18, MAX_ITERATIONS, distance=\"cosinus\", vectorColumn=\"text_vec\")\n",
    "data_NORTH_AMERICA[\"label\"] = labels\n",
    "silhouette_avg=silhouette_score(np.asarray(data_NORTH_AMERICA[\"text_vec\"].values.tolist()), data_NORTH_AMERICA[\"label\"].values, metric=\"cosine\",sample_size=50000)"
   ]
  },
  {
   "cell_type": "code",
   "execution_count": null,
   "metadata": {
    "scrolled": true
   },
   "outputs": [],
   "source": [
    "#10 closest tweets to group center by cluster\n",
    "res1 = print_closest_tweets_to_groupCenter(data_NORTH_AMERICA, 10, \"text_vec\")\n",
    "res1.head()"
   ]
  },
  {
   "cell_type": "code",
   "execution_count": null,
   "metadata": {},
   "outputs": [],
   "source": [
    "data_NORTH_AMERICA=data_NORTH_AMERICA.reset_index()\n",
    "data_NORTH_AMERICA[\"text_prep\"]=\"\"\n",
    "for i in tqdm(range(len(data_NORTH_AMERICA.index))):\n",
    "    data_NORTH_AMERICA[\"text_prep\"][i]=' '.join(data_NORTH_AMERICA[\"prep\"][i])"
   ]
  },
  {
   "cell_type": "code",
   "execution_count": null,
   "metadata": {},
   "outputs": [],
   "source": [
    "#Topwords\n",
    "from collections import Counter\n",
    "for i in range(0,18):\n",
    "    data_lab=data_NORTH_AMERICA[data_NORTH_AMERICA[\"label\"]==i]\n",
    "    print(\"Label \",i,\":\",Counter(\" \".join(data_lab[\"text_prep\"]).split()).most_common(15))"
   ]
  },
  {
   "cell_type": "markdown",
   "metadata": {},
   "source": [
    "## Generate data"
   ]
  },
  {
   "cell_type": "code",
   "execution_count": null,
   "metadata": {},
   "outputs": [],
   "source": [
    "tweets=pd.concat([data_EAST_ASIA_AND_PACIFIC,data_EUROPE_AND_CENTRAL_ASIA,data_LATIN_AMERICA_AND_THE_CARIBBEAN,data_MIDDLE_EAST_AND_NORTH_AFRICA,data_NORTH_AMERICA,data_SOUTH_ASIA,data_SUB_SAHARAN_AFRICA])"
   ]
  },
  {
   "cell_type": "code",
   "execution_count": null,
   "metadata": {},
   "outputs": [],
   "source": [
    "tweets=tweets.drop([\"Unnamed: 0.1\",\"Unnamed: 0.1.1\"],axis=1)"
   ]
  },
  {
   "cell_type": "code",
   "execution_count": null,
   "metadata": {},
   "outputs": [],
   "source": [
    "tweets.to_csv(r\"path\")"
   ]
  }
 ],
 "metadata": {
  "kernelspec": {
   "display_name": "Python 3",
   "language": "python",
   "name": "python3"
  },
  "language_info": {
   "codemirror_mode": {
    "name": "ipython",
    "version": 3
   },
   "file_extension": ".py",
   "mimetype": "text/x-python",
   "name": "python",
   "nbconvert_exporter": "python",
   "pygments_lexer": "ipython3",
   "version": "3.8.3"
  }
 },
 "nbformat": 4,
 "nbformat_minor": 2
}
