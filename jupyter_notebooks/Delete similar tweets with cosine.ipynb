{
 "cells": [
  {
   "cell_type": "code",
   "execution_count": null,
   "id": "3b6c1b5f",
   "metadata": {},
   "outputs": [],
   "source": [
    "import pandas as pd\n",
    "import numpy as np\n",
    "from numpy.linalg import norm\n",
    "import os\n",
    "import os.path as op\n",
    "import sys\n",
    "import itertools\n",
    "from gensim.models import FastText\n",
    "from gensim.matutils import softcossim\n",
    "import argparse\n",
    "\n",
    "# add path to utils module to python path\n",
    "basename = r\"\" #path to basename file\n",
    "path_utils = op.join(basename , \"utils\")\n",
    "sys.path.insert(0, path_utils)\n",
    "\n",
    "from sys_utils import load_library\n",
    "load_library(op.join(basename, 'preprocess'))\n",
    "load_library(op.join(basename, 'tweet_utils'))\n",
    "load_library(op.join(basename, 'readWrite'))\n",
    "os.environ[\"HADOOP_HOME\"] = \"/space/hadoop/hadoop_home\"\n",
    "\n",
    "\n",
    "from tweet_utils import *\n",
    "from readWrite import readFile, savePandasDFtoFile\n",
    "from preprocess import Preprocess\n",
    "prep = Preprocess()\n",
    "\n",
    "\n",
    "def cosinus_similarity(a, b):\n",
    "    return np.inner(a,b)/(norm(a)*norm(b))\n",
    "    #return np.dot(a, b.T)/(norm(a)*norm(b))\n",
    "\n",
    "\n",
    "def delete_similar_tweets(df):\n",
    "    if df.shape[0] == 1:\n",
    "        return df\n",
    "    else:\n",
    "        \n",
    "        all_indices = df.index.values.tolist()\n",
    "        all_combinations = itertools.combinations(all_indices, 2)\n",
    "        new_indices = []\n",
    "\n",
    "        while(len(all_indices) > 1):\n",
    "            first = all_indices[0]\n",
    "            rest = all_indices[1::]\n",
    "    \n",
    "            tweet1 = prep.replace_hashtags_URL_USER(df.loc[first][\"text\"], mode_URL=\"replace\", mode_Mentions=\"replace\")\n",
    "            vec1 = tweet_vectorizer(prep.tokenize(tweet1), model_ft)#.reshape(1,-1)\n",
    "            for i in rest:\n",
    "                tweet2 = prep.replace_hashtags_URL_USER(df.loc[i][\"text\"], mode_URL=\"replace\", mode_Mentions=\"replace\")\n",
    "                vec2 = tweet_vectorizer(prep.tokenize(tweet2), model_ft)#.reshape(1,-1)\n",
    "\n",
    "                cos = cosinus_similarity(vec1, vec2)\n",
    "           \n",
    "                if (cos > 0.98):\n",
    "                    #print(\"1: \", df.loc[first][\"text\"])\n",
    "                    #print(\"2: \", df.loc[i][\"text\"])\n",
    "                    #print(cos)\n",
    "                    #print(\"Remove\", i, \" :\", df.loc[i][\"text\"])\n",
    "                    all_indices.remove(i)\n",
    "#            print(\"append\", first, \" : \", df.loc[first][\"text\"])\n",
    "            new_indices.append(first)\n",
    "            all_indices.remove(first)\n",
    "\n",
    "        else:\n",
    "            if len(all_indices) > 0:\n",
    " #               print(\"Append last\", all_indices[0], \" : \", df.loc[all_indices[0]][\"text\"])\n",
    "                new_indices.append(all_indices[0])\n",
    " \n",
    "        #print(\"\\n New dataframe\", df.ix[new_indices].shape)\n",
    "        return df.ix[new_indices]\n"
   ]
  },
  {
   "cell_type": "code",
   "execution_count": null,
   "id": "da309e7f",
   "metadata": {},
   "outputs": [],
   "source": [
    "tweets=pd.read_csv(r\"\") #import dataset"
   ]
  },
  {
   "cell_type": "code",
   "execution_count": null,
   "id": "02ef44ba",
   "metadata": {},
   "outputs": [],
   "source": [
    "delete_similar_tweets(tweets)"
   ]
  },
  {
   "cell_type": "code",
   "execution_count": null,
   "id": "20f8d75e",
   "metadata": {},
   "outputs": [],
   "source": [
    "tweets.to_csv(r\"\") #export dataset as csv"
   ]
  }
 ],
 "metadata": {
  "kernelspec": {
   "display_name": "Python 3",
   "language": "python",
   "name": "python3"
  },
  "language_info": {
   "codemirror_mode": {
    "name": "ipython",
    "version": 3
   },
   "file_extension": ".py",
   "mimetype": "text/x-python",
   "name": "python",
   "nbconvert_exporter": "python",
   "pygments_lexer": "ipython3",
   "version": "3.8.3"
  }
 },
 "nbformat": 4,
 "nbformat_minor": 5
}
