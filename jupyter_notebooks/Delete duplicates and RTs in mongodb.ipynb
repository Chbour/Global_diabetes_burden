{
 "cells": [
  {
   "cell_type": "code",
   "execution_count": 1,
   "metadata": {},
   "outputs": [],
   "source": [
    "import pymongo\n",
    "import pandas as pd\n",
    "from pymongo import MongoClient\n",
    "import re\n",
    "import csv\n",
    "\n",
    "MONGO_HOST= '' #connexion string\n",
    "\n",
    "#Connexion to the mongodb database\n",
    "try:\n",
    "    client = MongoClient(MONGO_HOST)\n",
    "    db = client.database # Use database (If it doesn't exist, it will be created)\n",
    "except Exception as e:\n",
    "    print(e)"
   ]
  },
  {
   "cell_type": "markdown",
   "metadata": {},
   "source": [
    "## Delete duplicates in the mongo database"
   ]
  },
  {
   "cell_type": "code",
   "execution_count": 5,
   "metadata": {},
   "outputs": [],
   "source": [
    "replic = db.Diabetes.aggregate([            # Cursor with all duplicated documents\n",
    "    {'$group': {\n",
    "        '_id': {'id': '$id'},     # Duplicated field\n",
    "        'idsUnicos': {'$addToSet': '$_id'},\n",
    "        'total': {'$sum': 1}\n",
    "        }\n",
    "    },\n",
    "    {'$match': { \n",
    "        'total': {'$gt': 1}    # Holds how many duplicates for each group, if you need it.\n",
    "        }\n",
    "    }\n",
    "],allowDiskUse=True)\n",
    "                          # Result is a list of lists of ObjectsIds\n",
    "for i in replic:\n",
    "    for idx, j in enumerate(i['idsUnicos']):             # It holds the ids of all duplicates \n",
    "        if idx != 0:                                     # Jump over first element to keep it\n",
    "            db.Diabetes.delete_one({'_id': j})     # Remove the rest"
   ]
  },
  {
   "cell_type": "markdown",
   "metadata": {},
   "source": [
    "## Delete retweets in the mongo database"
   ]
  },
  {
   "cell_type": "code",
   "execution_count": null,
   "metadata": {},
   "outputs": [],
   "source": [
    "db.Diabetes.delete_many({\"full_text\" : { '$regex' : 'RT @' }})"
   ]
  }
 ],
 "metadata": {
  "kernelspec": {
   "display_name": "Python 3",
   "language": "python",
   "name": "python3"
  },
  "language_info": {
   "codemirror_mode": {
    "name": "ipython",
    "version": 3
   },
   "file_extension": ".py",
   "mimetype": "text/x-python",
   "name": "python",
   "nbconvert_exporter": "python",
   "pygments_lexer": "ipython3",
   "version": "3.8.3"
  }
 },
 "nbformat": 4,
 "nbformat_minor": 4
}
